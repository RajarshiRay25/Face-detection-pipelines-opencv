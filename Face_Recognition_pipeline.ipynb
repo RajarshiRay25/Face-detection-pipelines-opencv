{
 "cells": [
  {
   "cell_type": "code",
   "execution_count": 2,
   "id": "09d6a741-d24d-4229-9761-81509bce90ee",
   "metadata": {},
   "outputs": [],
   "source": [
    "import cv2"
   ]
  },
  {
   "cell_type": "markdown",
   "id": "9d6d3bb9-10e4-4497-88ce-f707b658debc",
   "metadata": {},
   "source": [
    "## Open Video Camera"
   ]
  },
  {
   "cell_type": "code",
   "execution_count": 3,
   "id": "6198d783-c25c-4088-92ef-67a6813e9c9a",
   "metadata": {},
   "outputs": [],
   "source": [
    "# Create Video camera capture object\n",
    "\n",
    "capture_camera = cv2.VideoCapture(0)\n",
    "\n",
    "# To make sure video cam keeps on\n",
    "\n",
    "while True:\n",
    "    # To initialise and read the camera image\n",
    "    \n",
    "    ret,frame = capture_camera.read()\n",
    "    \n",
    "    # Show the frame and title of camera screen\n",
    "    \n",
    "    cv2.imshow('PyCamera',frame)\n",
    "    \n",
    "    # Close the window after certain time and when a key pressed\n",
    "    \n",
    "    if cv2.waitKey(1) == ord('q'):\n",
    "        break\n",
    "    \n",
    "capture_camera.release()\n",
    "cv2.destroyAllWindows()"
   ]
  },
  {
   "cell_type": "markdown",
   "id": "a4cb74b4-7159-46a9-b25f-5c15cdc9fc8b",
   "metadata": {},
   "source": [
    "## Face Capture"
   ]
  },
  {
   "cell_type": "code",
   "execution_count": 9,
   "id": "bb795a6a-f2b4-4c9f-ac77-2c176cf12a25",
   "metadata": {},
   "outputs": [],
   "source": [
    "# Face capturing through HAAR cascading - Obtain the xml file for frontal face detection from source folder\n",
    "\n",
    "face_capture = cv2.CascadeClassifier('F:\\ANACONDA\\Lib\\site-packages\\cv2\\data\\haarcascade_frontalface_default.xml')\n",
    "\n",
    "# Create video camera capture\n",
    "\n",
    "capture_camera = cv2.VideoCapture(0)\n",
    "\n",
    "while True:\n",
    "    # To initialise and read the camera image\n",
    "    \n",
    "    ret,frame = capture_camera.read()\n",
    "    \n",
    "    # Convert default BGR color scale to Grayscale\n",
    "    \n",
    "    color_scale_convert = cv2.cvtColor(frame,cv2.COLOR_BGR2GRAY)\n",
    "    \n",
    "    # Detecting faces from the HAAR\n",
    "    \n",
    "    face_detector = face_capture.detectMultiScale(\n",
    "        color_scale_convert,\n",
    "        scaleFactor=1.1,  # Parameter specifying how much the image size is reduced at each image scale.\n",
    "        minNeighbors=5,   # Parameter specifying how many neighbors each candidate rectangle should have to retain it.\n",
    "        minSize=(100,100),  # Minimum possible object size. Objects smaller than that are ignored.\n",
    "        flags = cv2.CASCADE_SCALE_IMAGE\n",
    "    )\n",
    "    \n",
    "    # Drawing the rectangle around the face (Points on one end and opposite end needed)\n",
    "    \n",
    "    for(x,y,height,width) in face_detector:\n",
    "        cv2.rectangle(frame,(x,y),(x+width,y+height),(255,0,0),3)\n",
    "    \n",
    "        # Show the frame and title of camera screen\n",
    "    \n",
    "    cv2.imshow('PyCamera',frame)\n",
    "    \n",
    "    # Close the window after certain time and when a key pressed\n",
    "    \n",
    "    if cv2.waitKey(1) == ord('q'):\n",
    "        break\n",
    "    \n",
    "capture_camera.release()\n",
    "cv2.destroyAllWindows()\n",
    "    \n",
    "    "
   ]
  },
  {
   "cell_type": "code",
   "execution_count": 10,
   "id": "b628ebe9-2153-4f31-8436-2dc06c85912b",
   "metadata": {},
   "outputs": [
    {
     "name": "stdout",
     "output_type": "stream",
     "text": [
      "F:\\ANACONDA\\lib\\site-packages\\cv2\\data\\\n"
     ]
    }
   ],
   "source": [
    "# Location of HAAR files\n",
    "\n",
    "print(cv2.data.haarcascades)"
   ]
  },
  {
   "cell_type": "code",
   "execution_count": null,
   "id": "b2e88b0e-ab93-4ea6-9c69-d65e939e844d",
   "metadata": {},
   "outputs": [],
   "source": []
  }
 ],
 "metadata": {
  "kernelspec": {
   "display_name": "Python 3 (ipykernel)",
   "language": "python",
   "name": "python3"
  },
  "language_info": {
   "codemirror_mode": {
    "name": "ipython",
    "version": 3
   },
   "file_extension": ".py",
   "mimetype": "text/x-python",
   "name": "python",
   "nbconvert_exporter": "python",
   "pygments_lexer": "ipython3",
   "version": "3.9.12"
  }
 },
 "nbformat": 4,
 "nbformat_minor": 5
}
